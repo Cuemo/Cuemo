{
  "nbformat": 4,
  "nbformat_minor": 0,
  "metadata": {
    "colab": {
      "name": "Kwa Zhi Poh's snack classifier.ipynb",
      "provenance": []
    },
    "kernelspec": {
      "name": "python3",
      "display_name": "Python 3"
    },
    "accelerator": "GPU"
  },
  "cells": [
    {
      "cell_type": "markdown",
      "metadata": {
        "id": "p8lBIFDMU1dW",
        "colab_type": "text"
      },
      "source": [
        "Zhi Poh's snack classifier project\n",
        "\n",
        "My Office has a pantry that functions on a honour pay system along with its price. I was wondering if I could automatically identify the snack so that we could calculate the prices quicker for payment."
      ]
    },
    {
      "cell_type": "code",
      "metadata": {
        "id": "kw-rho-mK54n",
        "colab_type": "code",
        "colab": {
          "base_uri": "https://localhost:8080/",
          "height": 35
        },
        "outputId": "892d825c-b035-4506-8c08-261dbc6c9cee"
      },
      "source": [
        "# importing the libraries\n",
        "import tensorflow as tf\n",
        "import tensorflow_datasets as tfds\n",
        "import os\n",
        "import numpy as np\n",
        "import pandas as pd\n",
        "from google.colab import drive, files\n",
        "\n",
        "drive.mount('/content/drive', force_remount=True)"
      ],
      "execution_count": null,
      "outputs": [
        {
          "output_type": "stream",
          "text": [
            "Mounted at /content/drive\n"
          ],
          "name": "stdout"
        }
      ]
    },
    {
      "cell_type": "code",
      "metadata": {
        "id": "vMZC314dLS2O",
        "colab_type": "code",
        "colab": {
          "base_uri": "https://localhost:8080/",
          "height": 35
        },
        "outputId": "3de90b50-fc53-44df-abff-b4c8b6dcbe12"
      },
      "source": [
        "# check if the files are correct\n",
        "# each folder contains slightly over 100 images of the snack at various perspective\n",
        "! ls '/content/drive/My Drive/Snacks'"
      ],
      "execution_count": null,
      "outputs": [
        {
          "output_type": "stream",
          "text": [
            "'Fanta Orange'\t\"Julie's Cheese\"  'Kit Kat'   Milo   Oreo   test  'Yan Yan'\n"
          ],
          "name": "stdout"
        }
      ]
    },
    {
      "cell_type": "code",
      "metadata": {
        "id": "nGVDf-byLcxw",
        "colab_type": "code",
        "colab": {}
      },
      "source": [
        "# set directory to the snacks folders\n",
        "os.chdir('/content/drive/My Drive/Snacks')"
      ],
      "execution_count": null,
      "outputs": []
    },
    {
      "cell_type": "code",
      "metadata": {
        "id": "5lAgv7gdLnGO",
        "colab_type": "code",
        "colab": {
          "base_uri": "https://localhost:8080/",
          "height": 212
        },
        "outputId": "3325bf50-5947-4739-9f44-4c98e66eef9a"
      },
      "source": [
        "# generate the dataset and labelling the classes for each image into a Dataframe df\n",
        "path = \"./\"\n",
        "\n",
        "data = []\n",
        "for root, dirs, files in os.walk(path, topdown=True):\n",
        "  for name in files:\n",
        "    if '.jpg' not in name:\n",
        "      continue\n",
        "    filename = os.path.abspath(os.path.join(root, name))\n",
        "    class_name = os.path.basename(root)\n",
        "    data.append((filename, class_name))\n",
        "    \n",
        "df = pd.DataFrame(data, columns=['filename', 'class_name'])\n",
        "\n",
        "df['class_name'] = df['class_name'].astype('category')\n",
        "df['class'] = df['class_name'].cat.codes\n",
        "\n",
        "#shuffle\n",
        "df = df.sample(frac=1).reset_index(drop=True)\n",
        "\n",
        "print(df.head())\n",
        "print(len(df))\n",
        "df.dtypes"
      ],
      "execution_count": null,
      "outputs": [
        {
          "output_type": "stream",
          "text": [
            "                                            filename      class_name  class\n",
            "0          /content/drive/My Drive/Snacks/Oreo/0.jpg            Oreo      4\n",
            "1  /content/drive/My Drive/Snacks/Fanta Orange/9.jpg    Fanta Orange      0\n",
            "2  /content/drive/My Drive/Snacks/Julie's Cheese/...  Julie's Cheese      1\n",
            "3      /content/drive/My Drive/Snacks/Kit Kat/52.jpg         Kit Kat      2\n",
            "4        /content/drive/My Drive/Snacks/Milo/118.jpg            Milo      3\n",
            "866\n"
          ],
          "name": "stdout"
        },
        {
          "output_type": "execute_result",
          "data": {
            "text/plain": [
              "filename        object\n",
              "class_name    category\n",
              "class             int8\n",
              "dtype: object"
            ]
          },
          "metadata": {
            "tags": []
          },
          "execution_count": 4
        }
      ]
    },
    {
      "cell_type": "code",
      "metadata": {
        "id": "DcYCBnSBNV_k",
        "colab_type": "code",
        "colab": {}
      },
      "source": [
        "# Split into train and validation sets\n",
        "train_set_percentage = .8\n",
        "\n",
        "\n",
        "df_train = df[:int(len(df)*train_set_percentage)]\n",
        "df_val = df[int(len(df)*train_set_percentage):]\n",
        "\n",
        "# shuffle \n",
        "df_train = df_train.sample(frac=1).reset_index(drop=True)\n",
        "df_val = df_val.sample(frac=1).reset_index(drop=True)"
      ],
      "execution_count": null,
      "outputs": []
    },
    {
      "cell_type": "code",
      "metadata": {
        "id": "aRGbdtyGNbk3",
        "colab_type": "code",
        "colab": {
          "base_uri": "https://localhost:8080/",
          "height": 35
        },
        "outputId": "2728afe8-c67e-4323-b702-c02a33f30a51"
      },
      "source": [
        "# we have 692 training RGB images and 174 test RGB images\n",
        "df_train.shape, df_val.shape"
      ],
      "execution_count": null,
      "outputs": [
        {
          "output_type": "execute_result",
          "data": {
            "text/plain": [
              "((692, 3), (174, 3))"
            ]
          },
          "metadata": {
            "tags": []
          },
          "execution_count": 6
        }
      ]
    },
    {
      "cell_type": "code",
      "metadata": {
        "id": "0cW7KretNrqk",
        "colab_type": "code",
        "colab": {}
      },
      "source": [
        "# Reads an image from a file, decodes it into a tensor, and resizes it to 64 by 64 pixels\n",
        "# to a fixed shape.\n",
        "img_rows, img_cols = 64, 64\n",
        "num_classes = 6\n",
        "# batch size set to 16\n",
        "batch_size = 16\n",
        "\n",
        "# converts the images to tensors\n",
        "def _parse_function(filename, label):\n",
        "  image_string = tf.io.read_file(filename)\n",
        "  image_decoded = tf.image.decode_jpeg(image_string,channels=3)\n",
        "  image_resized = tf.image.resize(image_decoded, [img_rows, img_cols])\n",
        "  image_resized = tf.ensure_shape(image_resized ,shape=(img_rows, img_cols,3))\n",
        "  label = tf.one_hot(label, num_classes)\n",
        "  return image_resized, label"
      ],
      "execution_count": null,
      "outputs": []
    },
    {
      "cell_type": "code",
      "metadata": {
        "id": "eSLiTfQiN4vS",
        "colab_type": "code",
        "colab": {}
      },
      "source": [
        "# batch for training dataset\n",
        "train_dataset = tf.data.Dataset.from_tensor_slices((tf.cast(df_train['filename'].values, tf.string),\n",
        "                                                    tf.cast(df_train['class'].values, tf.int32) ))\n",
        "train_dataset = train_dataset.map(_parse_function)\n",
        "train_dataset = train_dataset.shuffle(5000)\n",
        "train_dataset = train_dataset.repeat()\n",
        "train_dataset = train_dataset.batch(batch_size, drop_remainder=True)"
      ],
      "execution_count": null,
      "outputs": []
    },
    {
      "cell_type": "code",
      "metadata": {
        "id": "N-mKl38jN69x",
        "colab_type": "code",
        "colab": {}
      },
      "source": [
        "# batch for test dataset\n",
        "valid_dataset = tf.data.Dataset.from_tensor_slices((tf.cast(df_val['filename'].values, tf.string),\n",
        "                                                    tf.cast(df_val['class'].values, tf.int32) ))\n",
        "valid_dataset = valid_dataset.map(_parse_function)\n",
        "valid_dataset = valid_dataset.repeat()\n",
        "valid_dataset = valid_dataset.batch(batch_size, drop_remainder=True)"
      ],
      "execution_count": null,
      "outputs": []
    },
    {
      "cell_type": "code",
      "metadata": {
        "id": "RCtBKbTmN81J",
        "colab_type": "code",
        "colab": {
          "base_uri": "https://localhost:8080/",
          "height": 35
        },
        "outputId": "a9e3cb0a-ae7f-4b8a-a347-7376e8d03ec7"
      },
      "source": [
        "train_dataset"
      ],
      "execution_count": null,
      "outputs": [
        {
          "output_type": "execute_result",
          "data": {
            "text/plain": [
              "<BatchDataset shapes: ((16, 64, 64, 3), (16, 6)), types: (tf.float32, tf.float32)>"
            ]
          },
          "metadata": {
            "tags": []
          },
          "execution_count": 10
        }
      ]
    },
    {
      "cell_type": "code",
      "metadata": {
        "id": "sGFTfZdJN-bc",
        "colab_type": "code",
        "colab": {}
      },
      "source": [
        "# create the base pre-trained model\n",
        "base_model = tf.keras.applications.VGG16(weights='imagenet', include_top=False, input_shape=(64, 64, 3),pooling=None)"
      ],
      "execution_count": null,
      "outputs": []
    },
    {
      "cell_type": "code",
      "metadata": {
        "id": "WBHeBnJCOACU",
        "colab_type": "code",
        "colab": {}
      },
      "source": [
        "from tensorflow.keras.preprocessing import image\n",
        "from tensorflow.keras.preprocessing.image import ImageDataGenerator\n",
        "\n",
        "from tensorflow.keras.models import Model,load_model,Sequential\n",
        "\n",
        "from tensorflow.keras.layers import Dense, GlobalAveragePooling2D, Dropout,Flatten, Input\n",
        "from tensorflow.keras import backend as K\n",
        "\n",
        "\n",
        "# add a global spatial average pooling layer\n",
        "x = base_model.output\n",
        "\n",
        "x = GlobalAveragePooling2D()(x)\n",
        "\n",
        "# let's add a fully-connected layer\n",
        "x = Dense(128, activation='relu')(x)\n",
        "\n",
        "x = Dropout(0.3)(x)\n",
        "\n",
        "# and a logits layer -- let's say we have 6 classes\n",
        "predictions = Dense(6, activation='softmax')(x)\n"
      ],
      "execution_count": null,
      "outputs": []
    },
    {
      "cell_type": "code",
      "metadata": {
        "id": "be3YRsOsOEIv",
        "colab_type": "code",
        "colab": {}
      },
      "source": [
        "# this is the model we will train\n",
        "model = Model(inputs=base_model.input, outputs=predictions)"
      ],
      "execution_count": null,
      "outputs": []
    },
    {
      "cell_type": "code",
      "metadata": {
        "id": "imdXAyt8OGZc",
        "colab_type": "code",
        "colab": {
          "base_uri": "https://localhost:8080/",
          "height": 355
        },
        "outputId": "eb9c465a-de9a-4021-be53-399dd37e869f"
      },
      "source": [
        "# first: train only the top layers (which were randomly initialized)\n",
        "# i.e. freeze all convolutional VGG16 layers\n",
        "for layer in base_model.layers:\n",
        "    print(layer.name)\n",
        "    layer.trainable = False\n"
      ],
      "execution_count": null,
      "outputs": [
        {
          "output_type": "stream",
          "text": [
            "input_1\n",
            "block1_conv1\n",
            "block1_conv2\n",
            "block1_pool\n",
            "block2_conv1\n",
            "block2_conv2\n",
            "block2_pool\n",
            "block3_conv1\n",
            "block3_conv2\n",
            "block3_conv3\n",
            "block3_pool\n",
            "block4_conv1\n",
            "block4_conv2\n",
            "block4_conv3\n",
            "block4_pool\n",
            "block5_conv1\n",
            "block5_conv2\n",
            "block5_conv3\n",
            "block5_pool\n"
          ],
          "name": "stdout"
        }
      ]
    },
    {
      "cell_type": "code",
      "metadata": {
        "id": "xi_dft-MOH5x",
        "colab_type": "code",
        "colab": {
          "base_uri": "https://localhost:8080/",
          "height": 426
        },
        "outputId": "cee78867-0cbf-4d6f-8b34-934effcc6d46"
      },
      "source": [
        "for layer in model.layers:\n",
        "    print(layer.name,' Trainable =',layer.trainable)"
      ],
      "execution_count": null,
      "outputs": [
        {
          "output_type": "stream",
          "text": [
            "input_1  Trainable = False\n",
            "block1_conv1  Trainable = False\n",
            "block1_conv2  Trainable = False\n",
            "block1_pool  Trainable = False\n",
            "block2_conv1  Trainable = False\n",
            "block2_conv2  Trainable = False\n",
            "block2_pool  Trainable = False\n",
            "block3_conv1  Trainable = False\n",
            "block3_conv2  Trainable = False\n",
            "block3_conv3  Trainable = False\n",
            "block3_pool  Trainable = False\n",
            "block4_conv1  Trainable = False\n",
            "block4_conv2  Trainable = False\n",
            "block4_conv3  Trainable = False\n",
            "block4_pool  Trainable = False\n",
            "block5_conv1  Trainable = False\n",
            "block5_conv2  Trainable = False\n",
            "block5_conv3  Trainable = False\n",
            "block5_pool  Trainable = False\n",
            "global_average_pooling2d  Trainable = True\n",
            "dense  Trainable = True\n",
            "dropout  Trainable = True\n",
            "dense_1  Trainable = True\n"
          ],
          "name": "stdout"
        }
      ]
    },
    {
      "cell_type": "code",
      "metadata": {
        "id": "KEy0lt7iOJnr",
        "colab_type": "code",
        "colab": {
          "base_uri": "https://localhost:8080/",
          "height": 977
        },
        "outputId": "4c7411a8-1c5b-4b68-e719-22275bd6f110"
      },
      "source": [
        "model.summary()"
      ],
      "execution_count": null,
      "outputs": [
        {
          "output_type": "stream",
          "text": [
            "Model: \"model\"\n",
            "_________________________________________________________________\n",
            "Layer (type)                 Output Shape              Param #   \n",
            "=================================================================\n",
            "input_1 (InputLayer)         [(None, 64, 64, 3)]       0         \n",
            "_________________________________________________________________\n",
            "block1_conv1 (Conv2D)        (None, 64, 64, 64)        1792      \n",
            "_________________________________________________________________\n",
            "block1_conv2 (Conv2D)        (None, 64, 64, 64)        36928     \n",
            "_________________________________________________________________\n",
            "block1_pool (MaxPooling2D)   (None, 32, 32, 64)        0         \n",
            "_________________________________________________________________\n",
            "block2_conv1 (Conv2D)        (None, 32, 32, 128)       73856     \n",
            "_________________________________________________________________\n",
            "block2_conv2 (Conv2D)        (None, 32, 32, 128)       147584    \n",
            "_________________________________________________________________\n",
            "block2_pool (MaxPooling2D)   (None, 16, 16, 128)       0         \n",
            "_________________________________________________________________\n",
            "block3_conv1 (Conv2D)        (None, 16, 16, 256)       295168    \n",
            "_________________________________________________________________\n",
            "block3_conv2 (Conv2D)        (None, 16, 16, 256)       590080    \n",
            "_________________________________________________________________\n",
            "block3_conv3 (Conv2D)        (None, 16, 16, 256)       590080    \n",
            "_________________________________________________________________\n",
            "block3_pool (MaxPooling2D)   (None, 8, 8, 256)         0         \n",
            "_________________________________________________________________\n",
            "block4_conv1 (Conv2D)        (None, 8, 8, 512)         1180160   \n",
            "_________________________________________________________________\n",
            "block4_conv2 (Conv2D)        (None, 8, 8, 512)         2359808   \n",
            "_________________________________________________________________\n",
            "block4_conv3 (Conv2D)        (None, 8, 8, 512)         2359808   \n",
            "_________________________________________________________________\n",
            "block4_pool (MaxPooling2D)   (None, 4, 4, 512)         0         \n",
            "_________________________________________________________________\n",
            "block5_conv1 (Conv2D)        (None, 4, 4, 512)         2359808   \n",
            "_________________________________________________________________\n",
            "block5_conv2 (Conv2D)        (None, 4, 4, 512)         2359808   \n",
            "_________________________________________________________________\n",
            "block5_conv3 (Conv2D)        (None, 4, 4, 512)         2359808   \n",
            "_________________________________________________________________\n",
            "block5_pool (MaxPooling2D)   (None, 2, 2, 512)         0         \n",
            "_________________________________________________________________\n",
            "global_average_pooling2d (Gl (None, 512)               0         \n",
            "_________________________________________________________________\n",
            "dense (Dense)                (None, 128)               65664     \n",
            "_________________________________________________________________\n",
            "dropout (Dropout)            (None, 128)               0         \n",
            "_________________________________________________________________\n",
            "dense_1 (Dense)              (None, 6)                 774       \n",
            "=================================================================\n",
            "Total params: 14,781,126\n",
            "Trainable params: 66,438\n",
            "Non-trainable params: 14,714,688\n",
            "_________________________________________________________________\n"
          ],
          "name": "stdout"
        }
      ]
    },
    {
      "cell_type": "code",
      "metadata": {
        "id": "HpuLIQZEOK-B",
        "colab_type": "code",
        "colab": {}
      },
      "source": [
        "opt = tf.keras.optimizers.Adam(lr=0.001)\n",
        "\n",
        "# compile the model (should be done *after* setting layers to non-trainable)\n",
        "model.compile(optimizer=opt, loss='categorical_crossentropy',metrics=['accuracy'])"
      ],
      "execution_count": null,
      "outputs": []
    },
    {
      "cell_type": "code",
      "metadata": {
        "id": "C5acpg3EOMof",
        "colab_type": "code",
        "colab": {
          "base_uri": "https://localhost:8080/",
          "height": 52
        },
        "outputId": "0b5387a5-ee4c-483d-effc-4bdcbd8fbdfe"
      },
      "source": [
        "train_steps = int(692/16) #total trains set / batch_size\n",
        "val_steps = int(174/16)\n",
        "\n",
        "print('train steps:',train_steps)\n",
        "print('val steps:',val_steps)"
      ],
      "execution_count": null,
      "outputs": [
        {
          "output_type": "stream",
          "text": [
            "train steps: 43\n",
            "val steps: 10\n"
          ],
          "name": "stdout"
        }
      ]
    },
    {
      "cell_type": "code",
      "metadata": {
        "id": "ml7uSKbAOTI0",
        "colab_type": "code",
        "colab": {
          "base_uri": "https://localhost:8080/",
          "height": 195
        },
        "outputId": "972157b9-6e5f-496a-f7a7-835a9b80964b"
      },
      "source": [
        "### Train the model with validation \n",
        "history = model.fit( train_dataset, \n",
        "                    steps_per_epoch = train_steps,\n",
        "                    epochs = 5,\n",
        "                    verbose = 1,\n",
        "                    validation_data = valid_dataset,\n",
        "                    validation_steps = val_steps)"
      ],
      "execution_count": null,
      "outputs": [
        {
          "output_type": "stream",
          "text": [
            "Epoch 1/5\n",
            "43/43 [==============================] - 80s 2s/step - loss: 5.7808 - accuracy: 0.6366 - val_loss: 0.5993 - val_accuracy: 0.9125\n",
            "Epoch 2/5\n",
            "43/43 [==============================] - 1s 16ms/step - loss: 0.5697 - accuracy: 0.9244 - val_loss: 0.2068 - val_accuracy: 0.9500\n",
            "Epoch 3/5\n",
            "43/43 [==============================] - 1s 16ms/step - loss: 0.2382 - accuracy: 0.9506 - val_loss: 0.1034 - val_accuracy: 0.9625\n",
            "Epoch 4/5\n",
            "43/43 [==============================] - 1s 16ms/step - loss: 0.0627 - accuracy: 0.9811 - val_loss: 0.1001 - val_accuracy: 0.9500\n",
            "Epoch 5/5\n",
            "43/43 [==============================] - 2s 38ms/step - loss: 0.1142 - accuracy: 0.9724 - val_loss: 0.1061 - val_accuracy: 0.9563\n"
          ],
          "name": "stdout"
        }
      ]
    },
    {
      "cell_type": "code",
      "metadata": {
        "id": "ktQZlx0NOVrE",
        "colab_type": "code",
        "colab": {
          "base_uri": "https://localhost:8080/",
          "height": 52
        },
        "outputId": "4cf82f07-a7cd-451b-d3d8-5669b40a121c"
      },
      "source": [
        "metrics = model.evaluate(valid_dataset,\n",
        "                   steps = val_steps)\n",
        "print(\"model accuracy:\",metrics[1])"
      ],
      "execution_count": null,
      "outputs": [
        {
          "output_type": "stream",
          "text": [
            "10/10 [==============================] - 0s 28ms/step - loss: 0.1061 - accuracy: 0.9563\n",
            "model accuracy: 0.956250011920929\n"
          ],
          "name": "stdout"
        }
      ]
    },
    {
      "cell_type": "code",
      "metadata": {
        "id": "lcaiZjNZQknR",
        "colab_type": "code",
        "colab": {}
      },
      "source": [
        "%matplotlib inline\n",
        "import numpy as np\n",
        "import matplotlib.pyplot as ply\n",
        "from IPython.display import Image, display\n",
        "from keras.preprocessing import image\n",
        "from keras.applications.imagenet_utils import preprocess_input, decode_predictions\n"
      ],
      "execution_count": null,
      "outputs": []
    },
    {
      "cell_type": "code",
      "metadata": {
        "id": "pNJdm_1WWX9n",
        "colab_type": "code",
        "colab": {
          "base_uri": "https://localhost:8080/",
          "height": 312
        },
        "outputId": "7e3aa317-68d4-4934-b489-6c6694548451"
      },
      "source": [
        "# Yan Yan snacks\n",
        "image_path = './test/yanyan.jpg'\n",
        "\n",
        "img = Image(image_path)\n",
        "display(img)\n",
        "label = ['fanta orange', \"julie's cheese\", 'kit kat', 'milo', 'oreo', 'yan yan']\n",
        "img = image.load_img(image_path, target_size=(96, 96))\n",
        "x = image.img_to_array(img)\n",
        "x = np.expand_dims(x, axis=0)\n",
        "x = preprocess_input(x)\n",
        "print('Input image shape:', x.shape)\n",
        "\n",
        "preds = model.predict(x)\n",
        "print('Predicted:', preds)\n",
        "print(\"Predicted:\", label[np.argmax(preds)], \"Actual: Yan Yan\" )"
      ],
      "execution_count": null,
      "outputs": [
        {
          "output_type": "display_data",
          "data": {
            "image/jpeg": "[encoded data removed]",
            "text/plain": [
              "<IPython.core.display.Image object>"
            ]
          },
          "metadata": {
            "tags": []
          }
        },
        {
          "output_type": "stream",
          "text": [
            "Input image shape: (1, 96, 96, 3)\n",
            "Predicted: [[2.0627317e-06 2.0394307e-12 2.5815501e-09 4.8630783e-13 7.5333793e-12\n",
            "  9.9999797e-01]]\n",
            "Predicted: yan yan Actual: Yan Yan\n"
          ],
          "name": "stdout"
        }
      ]
    },
    {
      "cell_type": "code",
      "metadata": {
        "id": "0R3SRBCARdRi",
        "colab_type": "code",
        "colab": {
          "base_uri": "https://localhost:8080/",
          "height": 312
        },
        "outputId": "1928701b-1a2a-45da-ffd8-cdb1eba13c63"
      },
      "source": [
        "image_path = './test/fanta.jpg'\n",
        "\n",
        "img = Image(image_path)\n",
        "display(img)\n",
        "label = ['fanta orange', \"julie's cheese\", 'kit kat', 'milo', 'oreo', 'yan yan']\n",
        "img = image.load_img(image_path, target_size=(96, 96))\n",
        "x = image.img_to_array(img)\n",
        "x = np.expand_dims(x, axis=0)\n",
        "x = preprocess_input(x)\n",
        "print('Input image shape:', x.shape)\n",
        "\n",
        "preds = model.predict(x)\n",
        "print('Predicted:', preds)\n",
        "print(\"Predicted:\", label[np.argmax(preds)], \"Actual: Fanta Orange\")"
      ],
      "execution_count": null,
      "outputs": [
        {
          "output_type": "display_data",
          "data": {
            "image/jpeg": "[encoded data removed]",
            "text/plain": [
              "<IPython.core.display.Image object>"
            ]
          },
          "metadata": {
            "tags": []
          }
        },
        {
          "output_type": "stream",
          "text": [
            "Input image shape: (1, 96, 96, 3)\n",
            "Predicted: [[9.9999917e-01 6.4567085e-10 3.6637965e-10 4.6308082e-07 4.1610968e-11\n",
            "  3.5401027e-07]]\n",
            "Predicted: fanta orange Actual: Fanta Orange\n"
          ],
          "name": "stdout"
        }
      ]
    },
    {
      "cell_type": "code",
      "metadata": {
        "id": "Uo4rnH6aRhu8",
        "colab_type": "code",
        "colab": {
          "base_uri": "https://localhost:8080/",
          "height": 312
        },
        "outputId": "54b536cb-3128-44bf-e30a-073cfbdb1eff"
      },
      "source": [
        "%matplotlib inline\n",
        "import numpy as np\n",
        "import matplotlib.pyplot as ply\n",
        "from IPython.display import Image, display\n",
        "from keras.preprocessing import image\n",
        "from keras.applications.imagenet_utils import preprocess_input, decode_predictions\n",
        "\n",
        "image_path = './test/julies.jpg'\n",
        "\n",
        "img = Image(image_path)\n",
        "display(img)\n",
        "label = ['fanta orange', \"julie's cheese\", 'kit kat', 'milo', 'oreo', 'yan yan']\n",
        "img = image.load_img(image_path, target_size=(96, 96))\n",
        "x = image.img_to_array(img)\n",
        "x = np.expand_dims(x, axis=0)\n",
        "x = preprocess_input(x)\n",
        "print('Input image shape:', x.shape)\n",
        "\n",
        "preds = model.predict(x)\n",
        "print('Predicted:', preds)\n",
        "print(\"Predicted:\", label[np.argmax(preds)], \"Actual: Julie's Cheese\")"
      ],
      "execution_count": null,
      "outputs": [
        {
          "output_type": "display_data",
          "data": {
            "image/jpeg": "[encoded data removed]",
            "text/plain": [
              "<IPython.core.display.Image object>"
            ]
          },
          "metadata": {
            "tags": []
          }
        },
        {
          "output_type": "stream",
          "text": [
            "Input image shape: (1, 96, 96, 3)\n",
            "Predicted: [[4.43971837e-09 9.99991059e-01 3.81342180e-10 1.01755084e-13\n",
            "  6.11985388e-06 2.87534544e-06]]\n",
            "Predicted: julie's cheese Actual: Julie's Cheese\n"
          ],
          "name": "stdout"
        }
      ]
    },
    {
      "cell_type": "code",
      "metadata": {
        "id": "57z0TBJtSHaO",
        "colab_type": "code",
        "colab": {
          "base_uri": "https://localhost:8080/",
          "height": 312
        },
        "outputId": "b9288e36-5cf0-48e3-fe68-e1c829744f7d"
      },
      "source": [
        "%matplotlib inline\n",
        "import numpy as np\n",
        "import matplotlib.pyplot as ply\n",
        "from IPython.display import Image, display\n",
        "from keras.preprocessing import image\n",
        "from keras.applications.imagenet_utils import preprocess_input, decode_predictions\n",
        "\n",
        "image_path = './test/kitkat.jpg'\n",
        "\n",
        "img = Image(image_path)\n",
        "display(img)\n",
        "label = ['fanta orange', \"julie's cheese\", 'kit kat', 'milo', 'oreo', 'yan yan']\n",
        "img = image.load_img(image_path, target_size=(96, 96))\n",
        "x = image.img_to_array(img)\n",
        "x = np.expand_dims(x, axis=0)\n",
        "x = preprocess_input(x)\n",
        "print('Input image shape:', x.shape)\n",
        "\n",
        "preds = model.predict(x)\n",
        "print('Predicted:', preds)\n",
        "print(\"Predicted:\", label[np.argmax(preds)], \"Actual: Kit Kat\")"
      ],
      "execution_count": null,
      "outputs": [
        {
          "output_type": "display_data",
          "data": {
            "image/jpeg": "[encoded data removed]",
            "text/plain": [
              "<IPython.core.display.Image object>"
            ]
          },
          "metadata": {
            "tags": []
          }
        },
        {
          "output_type": "stream",
          "text": [
            "Input image shape: (1, 96, 96, 3)\n",
            "Predicted: [[2.7268538e-02 2.3333151e-02 9.4900304e-01 3.8475366e-04 1.0353518e-06\n",
            "  9.4841525e-06]]\n",
            "Predicted: kit kat Actual: Kit Kat\n"
          ],
          "name": "stdout"
        }
      ]
    },
    {
      "cell_type": "code",
      "metadata": {
        "id": "-lf88-BASO2s",
        "colab_type": "code",
        "colab": {
          "base_uri": "https://localhost:8080/",
          "height": 312
        },
        "outputId": "be7dcd0c-fed5-4bca-c3b0-6b9b519dbe5a"
      },
      "source": [
        "%matplotlib inline\n",
        "import numpy as np\n",
        "import matplotlib.pyplot as ply\n",
        "from IPython.display import Image, display\n",
        "from keras.preprocessing import image\n",
        "from keras.applications.imagenet_utils import preprocess_input, decode_predictions\n",
        "\n",
        "image_path = './test/milo.jpg'\n",
        "\n",
        "img = Image(image_path)\n",
        "display(img)\n",
        "label = ['fanta orange', \"julie's cheese\", 'kit kat', 'milo', 'oreo', 'yan yan']\n",
        "img = image.load_img(image_path, target_size=(96, 96))\n",
        "x = image.img_to_array(img)\n",
        "x = np.expand_dims(x, axis=0)\n",
        "x = preprocess_input(x)\n",
        "print('Input image shape:', x.shape)\n",
        "\n",
        "preds = model.predict(x)\n",
        "print('Predicted:', preds)\n",
        "print(\"Predicted:\", label[np.argmax(preds)], \"Actual: Milo\")"
      ],
      "execution_count": null,
      "outputs": [
        {
          "output_type": "display_data",
          "data": {
            "image/jpeg": "[encoded data removed]",
            "text/plain": [
              "<IPython.core.display.Image object>"
            ]
          },
          "metadata": {
            "tags": []
          }
        },
        {
          "output_type": "stream",
          "text": [
            "Input image shape: (1, 96, 96, 3)\n",
            "Predicted: [[3.4282409e-04 3.0933183e-01 1.4150284e-02 4.5653783e-06 3.4448373e-04\n",
            "  6.7582601e-01]]\n",
            "Predicted: yan yan Actual: Milo\n"
          ],
          "name": "stdout"
        }
      ]
    },
    {
      "cell_type": "code",
      "metadata": {
        "id": "CSbMHePqSRTC",
        "colab_type": "code",
        "colab": {
          "base_uri": "https://localhost:8080/",
          "height": 312
        },
        "outputId": "da6a8fd4-57af-484f-f47d-ce1430481e61"
      },
      "source": [
        "%matplotlib inline\n",
        "import numpy as np\n",
        "import matplotlib.pyplot as ply\n",
        "from IPython.display import Image, display\n",
        "from keras.preprocessing import image\n",
        "from keras.applications.imagenet_utils import preprocess_input, decode_predictions\n",
        "\n",
        "image_path = './test/oreo.jpg'\n",
        "\n",
        "img = Image(image_path)\n",
        "display(img)\n",
        "label = ['fanta orange', \"julie's cheese\", 'kit kat', 'milo', 'oreo', 'yan yan']\n",
        "img = image.load_img(image_path, target_size=(96, 96))\n",
        "x = image.img_to_array(img)\n",
        "x = np.expand_dims(x, axis=0)\n",
        "x = preprocess_input(x)\n",
        "print('Input image shape:', x.shape)\n",
        "\n",
        "preds = model.predict(x)\n",
        "print('Predicted:', preds)\n",
        "print(\"Predicted:\", label[np.argmax(preds)], \"Actual: Oreo\")"
      ],
      "execution_count": null,
      "outputs": [
        {
          "output_type": "display_data",
          "data": {
            "image/jpeg": "[encoded data removed]",
            "text/plain": [
              "<IPython.core.display.Image object>"
            ]
          },
          "metadata": {
            "tags": []
          }
        },
        {
          "output_type": "stream",
          "text": [
            "Input image shape: (1, 96, 96, 3)\n",
            "Predicted: [[9.3305659e-01 1.6517889e-02 5.0314777e-02 3.9013677e-05 2.2973059e-06\n",
            "  6.9441900e-05]]\n",
            "Predicted: fanta orange Actual: Oreo\n"
          ],
          "name": "stdout"
        }
      ]
    },
    {
      "cell_type": "markdown",
      "metadata": {
        "id": "lC7xMldwXSxb",
        "colab_type": "text"
      },
      "source": [
        "Conclusion:\n",
        "\n",
        "We managed to predict 4 out of 6 attempts right! It's working in being able to identify the images.\n",
        "\n",
        "Potentially the reason why the labels did not work out well with the incorrect labels could be due to the low number of images used to train.\n",
        "\n",
        "Where to improve on further from here? Increasing datasets and more similar images. For example, being able to identify the different types of flavours of each snacks using multi-class labelling.\n",
        "\n",
        "Example: [Fanta, Cherry], [Oreo, original], [Julie's, Peanut], [Kit Kat, Matcha]"
      ]
    },
    {
      "cell_type": "code",
      "metadata": {
        "id": "QF2DKmLOYKyJ",
        "colab_type": "code",
        "colab": {}
      },
      "source": [
        ""
      ],
      "execution_count": null,
      "outputs": []
    }
  ]
}